{
 "cells": [
  {
   "cell_type": "code",
   "execution_count": 6,
   "id": "62e944b2-8a0f-4603-9c4c-22cb11360f25",
   "metadata": {},
   "outputs": [],
   "source": [
    "import numpy as np\n",
    "my_arr = np.arange(1000000)\n",
    "my_list = list(range(1000000))"
   ]
  },
  {
   "cell_type": "code",
   "execution_count": 8,
   "id": "123971fa-ca82-44af-9195-232f666aa819",
   "metadata": {},
   "outputs": [
    {
     "name": "stdout",
     "output_type": "stream",
     "text": [
      "CPU times: total: 594 ms\n",
      "Wall time: 595 ms\n"
     ]
    }
   ],
   "source": [
    "%time for _ in range(10): my_list2 = [x * 2 for x in my_list]"
   ]
  },
  {
   "cell_type": "code",
   "execution_count": 10,
   "id": "ede58d61-da97-4cff-940e-47b3a6bef2eb",
   "metadata": {},
   "outputs": [
    {
     "name": "stdout",
     "output_type": "stream",
     "text": [
      "CPU times: total: 31.2 ms\n",
      "Wall time: 16 ms\n"
     ]
    }
   ],
   "source": [
    "%time for _ in range(10): my_arr2 = my_arr * 2"
   ]
  },
  {
   "cell_type": "code",
   "execution_count": 12,
   "id": "a8f68820-6e4f-4988-9a63-203eb30f9660",
   "metadata": {},
   "outputs": [],
   "source": [
    "data = np.random.randn(2, 3)"
   ]
  },
  {
   "cell_type": "code",
   "execution_count": 14,
   "id": "8a2bf71f-9a64-4f22-8ad5-861c11ff4a54",
   "metadata": {},
   "outputs": [
    {
     "data": {
      "text/plain": [
       "array([[-1.38068398, -1.1360558 ,  1.16905407],\n",
       "       [ 0.04252151,  0.3187662 , -0.04013996]])"
      ]
     },
     "execution_count": 14,
     "metadata": {},
     "output_type": "execute_result"
    }
   ],
   "source": [
    "data"
   ]
  },
  {
   "cell_type": "code",
   "execution_count": 16,
   "id": "a0d2a644-827b-4c62-98ad-3e2ddec2cec0",
   "metadata": {},
   "outputs": [
    {
     "data": {
      "text/plain": [
       "array([[-13.80683984, -11.36055804,  11.69054074],\n",
       "       [  0.42521508,   3.18766198,  -0.40139964]])"
      ]
     },
     "execution_count": 16,
     "metadata": {},
     "output_type": "execute_result"
    }
   ],
   "source": [
    "data * 10"
   ]
  },
  {
   "cell_type": "code",
   "execution_count": 17,
   "id": "84f66ca2-2b6f-47c4-9856-76adca434941",
   "metadata": {},
   "outputs": [
    {
     "data": {
      "text/plain": [
       "array([[-2.76136797, -2.27211161,  2.33810815],\n",
       "       [ 0.08504302,  0.6375324 , -0.08027993]])"
      ]
     },
     "execution_count": 17,
     "metadata": {},
     "output_type": "execute_result"
    }
   ],
   "source": [
    "data + data"
   ]
  },
  {
   "cell_type": "code",
   "execution_count": 22,
   "id": "60b9b6a3-a67d-42b4-ad43-3f3cd261db20",
   "metadata": {},
   "outputs": [
    {
     "data": {
      "text/plain": [
       "((2, 3), dtype('float64'))"
      ]
     },
     "execution_count": 22,
     "metadata": {},
     "output_type": "execute_result"
    }
   ],
   "source": [
    "data.shape, data.dtype"
   ]
  },
  {
   "cell_type": "code",
   "execution_count": 25,
   "id": "df0deec6-a9b4-41bb-a425-caa9ddc8a442",
   "metadata": {},
   "outputs": [
    {
     "data": {
      "text/plain": [
       "array([6. , 3.4, 2. , 0. , 1. ])"
      ]
     },
     "execution_count": 25,
     "metadata": {},
     "output_type": "execute_result"
    }
   ],
   "source": [
    "# python list\n",
    "data1 = [6, 3.4, 2, 0, 1]\n",
    "# np ndarray\n",
    "arr1 = np.array(data1)\n",
    "arr1"
   ]
  },
  {
   "cell_type": "code",
   "execution_count": 31,
   "id": "e56324ef-669b-4dbe-be97-beaa87ff4742",
   "metadata": {},
   "outputs": [
    {
     "data": {
      "text/plain": [
       "(array([[1, 2, 3, 4],\n",
       "        [5, 6, 7, 8]]),\n",
       " 2,\n",
       " (2, 4))"
      ]
     },
     "execution_count": 31,
     "metadata": {},
     "output_type": "execute_result"
    }
   ],
   "source": [
    "data2 = [[1, 2, 3, 4], [5, 6, 7, 8]]\n",
    "arr2 = np.array(data2)\n",
    "#      배열차원   배열 n*m\n",
    "arr2, arr2.ndim, arr2.shape"
   ]
  },
  {
   "cell_type": "code",
   "execution_count": 32,
   "id": "c363e486-8657-4771-9354-8b8b6832c11b",
   "metadata": {},
   "outputs": [
    {
     "data": {
      "text/plain": [
       "(dtype('float64'), dtype('int32'))"
      ]
     },
     "execution_count": 32,
     "metadata": {},
     "output_type": "execute_result"
    }
   ],
   "source": [
    "arr1.dtype, arr2.dtype"
   ]
  },
  {
   "cell_type": "code",
   "execution_count": 34,
   "id": "92a7577e-5d41-4a36-bf1f-e116e75c8f44",
   "metadata": {},
   "outputs": [
    {
     "data": {
      "text/plain": [
       "array([0., 0., 0., 0., 0., 0., 0., 0., 0., 0.])"
      ]
     },
     "execution_count": 34,
     "metadata": {},
     "output_type": "execute_result"
    }
   ],
   "source": [
    "np.zeros(10)"
   ]
  },
  {
   "cell_type": "code",
   "execution_count": 36,
   "id": "c89b3958-c4a9-43fe-b152-25126e19d584",
   "metadata": {},
   "outputs": [
    {
     "data": {
      "text/plain": [
       "array([[0., 0., 0., 0., 0., 0.],\n",
       "       [0., 0., 0., 0., 0., 0.],\n",
       "       [0., 0., 0., 0., 0., 0.]])"
      ]
     },
     "execution_count": 36,
     "metadata": {},
     "output_type": "execute_result"
    }
   ],
   "source": [
    "np.zeros((3, 6))"
   ]
  },
  {
   "cell_type": "code",
   "execution_count": 40,
   "id": "0e2e7fd5-58a3-445b-b10c-56ca25f6ba82",
   "metadata": {},
   "outputs": [
    {
     "data": {
      "text/plain": [
       "array([[[0., 0.],\n",
       "        [0., 0.],\n",
       "        [0., 0.]],\n",
       "\n",
       "       [[0., 0.],\n",
       "        [0., 0.],\n",
       "        [0., 0.]]])"
      ]
     },
     "execution_count": 40,
     "metadata": {},
     "output_type": "execute_result"
    }
   ],
   "source": [
    "np.zeros((2, 3, 2))"
   ]
  },
  {
   "cell_type": "code",
   "execution_count": 42,
   "id": "56fca94c-5dfe-4b4f-947d-ed7aa3f76728",
   "metadata": {},
   "outputs": [
    {
     "data": {
      "text/plain": [
       "array([0, 1, 2, 3, 4, 5, 6, 7, 8, 9])"
      ]
     },
     "execution_count": 42,
     "metadata": {},
     "output_type": "execute_result"
    }
   ],
   "source": [
    "# range 대응\n",
    "np.arange(10)"
   ]
  },
  {
   "cell_type": "code",
   "execution_count": 44,
   "id": "0f288c73-329c-443b-9705-54234d9a7191",
   "metadata": {},
   "outputs": [
    {
     "data": {
      "text/plain": [
       "array([1., 1., 1., 1., 1., 1., 1., 1., 1., 1.])"
      ]
     },
     "execution_count": 44,
     "metadata": {},
     "output_type": "execute_result"
    }
   ],
   "source": [
    "np.ones(10)"
   ]
  },
  {
   "cell_type": "code",
   "execution_count": 51,
   "id": "1027b92f-aa0c-4246-b802-889c0cd2ea2d",
   "metadata": {},
   "outputs": [
    {
     "data": {
      "text/plain": [
       "array([[1, 1],\n",
       "       [1, 1]])"
      ]
     },
     "execution_count": 51,
     "metadata": {},
     "output_type": "execute_result"
    }
   ],
   "source": [
    "l = [[1, 2], [3, 4]]\n",
    "np.ones_like(l)"
   ]
  },
  {
   "cell_type": "code",
   "execution_count": 55,
   "id": "572f1882-06f9-4c80-8dc6-4784be6680a9",
   "metadata": {},
   "outputs": [
    {
     "data": {
      "text/plain": [
       "(array([1, 2, 3, 4, 5]), dtype('int32'))"
      ]
     },
     "execution_count": 55,
     "metadata": {},
     "output_type": "execute_result"
    }
   ],
   "source": [
    "arr = np.array([1, 2, 3, 4, 5])\n",
    "arr, arr.dtype"
   ]
  },
  {
   "cell_type": "code",
   "execution_count": 59,
   "id": "50f943e2-bfff-4db7-a0d8-d92af2b9774a",
   "metadata": {},
   "outputs": [
    {
     "data": {
      "text/plain": [
       "array([1., 2., 3., 4., 5.])"
      ]
     },
     "execution_count": 59,
     "metadata": {},
     "output_type": "execute_result"
    }
   ],
   "source": [
    "arr.astype(np.float64)"
   ]
  },
  {
   "cell_type": "code",
   "execution_count": 64,
   "id": "ef0ad8c0-c63a-4809-a4eb-5c0090026e3c",
   "metadata": {},
   "outputs": [
    {
     "data": {
      "text/plain": [
       "array([[ 0, -1,  0],\n",
       "       [ 0,  0,  0]])"
      ]
     },
     "execution_count": 64,
     "metadata": {},
     "output_type": "execute_result"
    }
   ],
   "source": [
    "data = np.random.randn(2, 3)\n",
    "data.astype(np.int32)  # 실수 => 정수는 소수점 모두 버림"
   ]
  },
  {
   "cell_type": "code",
   "execution_count": 71,
   "id": "783e2b37-f348-4724-a8df-bb925d4825f0",
   "metadata": {},
   "outputs": [
    {
     "data": {
      "text/plain": [
       "array([1. , 2.3, 5. ])"
      ]
     },
     "execution_count": 71,
     "metadata": {},
     "output_type": "execute_result"
    }
   ],
   "source": [
    "str_arr = np.array(['1', '2.3', '5'])\n",
    "str_arr.astype(np.float64)"
   ]
  },
  {
   "cell_type": "code",
   "execution_count": 76,
   "id": "23436811-6cb3-44a0-aff2-ed411f7f577a",
   "metadata": {},
   "outputs": [
    {
     "data": {
      "text/plain": [
       "array([1. , 2.3, 5. ])"
      ]
     },
     "execution_count": 76,
     "metadata": {},
     "output_type": "execute_result"
    }
   ],
   "source": [
    "float_arr = np.array([1.1])\n",
    "\n",
    "str_arr.astype(float_arr.dtype)"
   ]
  },
  {
   "cell_type": "code",
   "execution_count": 77,
   "id": "1be8b8b3-9ca2-4790-b459-49da9b9b00c4",
   "metadata": {},
   "outputs": [],
   "source": [
    "# 산술연산"
   ]
  },
  {
   "cell_type": "code",
   "execution_count": 82,
   "id": "0e2c088b-5beb-4fd3-bb5d-64d3396998b3",
   "metadata": {},
   "outputs": [
    {
     "data": {
      "text/plain": [
       "array([[1, 2, 3],\n",
       "       [4, 5, 6]])"
      ]
     },
     "execution_count": 82,
     "metadata": {},
     "output_type": "execute_result"
    }
   ],
   "source": [
    "arr = np.array([[1, 2, 3], [4, 5, 6]])\n",
    "arr"
   ]
  },
  {
   "cell_type": "code",
   "execution_count": 84,
   "id": "a65c730e-4ffe-44f1-9eb1-7a5613aab2ff",
   "metadata": {},
   "outputs": [
    {
     "data": {
      "text/plain": [
       "array([[ 1,  4,  9],\n",
       "       [16, 25, 36]])"
      ]
     },
     "execution_count": 84,
     "metadata": {},
     "output_type": "execute_result"
    }
   ],
   "source": [
    "arr * arr"
   ]
  },
  {
   "cell_type": "code",
   "execution_count": 86,
   "id": "525eb4be-7d3a-4798-8b3d-62f073b456fd",
   "metadata": {},
   "outputs": [
    {
     "data": {
      "text/plain": [
       "array([[0, 0, 0],\n",
       "       [0, 0, 0]])"
      ]
     },
     "execution_count": 86,
     "metadata": {},
     "output_type": "execute_result"
    }
   ],
   "source": [
    "arr - arr"
   ]
  },
  {
   "cell_type": "code",
   "execution_count": 88,
   "id": "bc9c3220-89c0-4947-b055-1258e13ffdfb",
   "metadata": {},
   "outputs": [
    {
     "data": {
      "text/plain": [
       "array([[1.        , 0.5       , 0.33333333],\n",
       "       [0.25      , 0.2       , 0.16666667]])"
      ]
     },
     "execution_count": 88,
     "metadata": {},
     "output_type": "execute_result"
    }
   ],
   "source": [
    "1 / arr"
   ]
  },
  {
   "cell_type": "code",
   "execution_count": 90,
   "id": "d4ec0de7-c255-4966-8724-4674b7133d87",
   "metadata": {},
   "outputs": [
    {
     "data": {
      "text/plain": [
       "array([[1.        , 1.41421356, 1.73205081],\n",
       "       [2.        , 2.23606798, 2.44948974]])"
      ]
     },
     "execution_count": 90,
     "metadata": {},
     "output_type": "execute_result"
    }
   ],
   "source": [
    "arr ** 0.5"
   ]
  },
  {
   "cell_type": "code",
   "execution_count": 91,
   "id": "1b7776a4-726a-48a5-9d2a-e94b59d32d68",
   "metadata": {},
   "outputs": [],
   "source": [
    "arr2 = np.array([[0, 4, 1], [7, 2, 12]])"
   ]
  },
  {
   "cell_type": "code",
   "execution_count": 94,
   "id": "db1cd137-16f9-4eaa-8061-f18b72dd8adb",
   "metadata": {},
   "outputs": [
    {
     "data": {
      "text/plain": [
       "array([[ True, False,  True],\n",
       "       [False,  True, False]])"
      ]
     },
     "execution_count": 94,
     "metadata": {},
     "output_type": "execute_result"
    }
   ],
   "source": [
    "arr > arr2"
   ]
  },
  {
   "cell_type": "code",
   "execution_count": 95,
   "id": "5e383c1f-630a-4798-b408-b07159719a71",
   "metadata": {},
   "outputs": [],
   "source": [
    "# index/slicing"
   ]
  },
  {
   "cell_type": "code",
   "execution_count": 99,
   "id": "345f7f31-571d-4661-a54a-1820988c0ba4",
   "metadata": {},
   "outputs": [
    {
     "data": {
      "text/plain": [
       "array([0, 1, 2, 3, 4, 5, 6, 7, 8, 9])"
      ]
     },
     "execution_count": 99,
     "metadata": {},
     "output_type": "execute_result"
    }
   ],
   "source": [
    "arr = np.arange(10)\n",
    "arr"
   ]
  },
  {
   "cell_type": "code",
   "execution_count": 101,
   "id": "bdacabe2-f26c-465b-8458-b9ab0475aa18",
   "metadata": {},
   "outputs": [
    {
     "data": {
      "text/plain": [
       "5"
      ]
     },
     "execution_count": 101,
     "metadata": {},
     "output_type": "execute_result"
    }
   ],
   "source": [
    "arr[5]"
   ]
  },
  {
   "cell_type": "code",
   "execution_count": 103,
   "id": "5005b9bf-8d7b-4c3d-ab88-62da27053ad4",
   "metadata": {},
   "outputs": [
    {
     "data": {
      "text/plain": [
       "array([5, 6, 7])"
      ]
     },
     "execution_count": 103,
     "metadata": {},
     "output_type": "execute_result"
    }
   ],
   "source": [
    "arr[5:8]"
   ]
  },
  {
   "cell_type": "code",
   "execution_count": 106,
   "id": "dd3a80e9-24a3-4ae4-8509-27e6383dfd34",
   "metadata": {},
   "outputs": [
    {
     "data": {
      "text/plain": [
       "array([  0,   1,   2,   3,   4, 100, 100, 100,   8,   9])"
      ]
     },
     "execution_count": 106,
     "metadata": {},
     "output_type": "execute_result"
    }
   ],
   "source": [
    "arr[5:8] = 100\n",
    "arr"
   ]
  },
  {
   "cell_type": "code",
   "execution_count": 108,
   "id": "39a2c707-8327-48da-b520-b6c270ca86f1",
   "metadata": {},
   "outputs": [
    {
     "data": {
      "text/plain": [
       "array([100, 100, 100])"
      ]
     },
     "execution_count": 108,
     "metadata": {},
     "output_type": "execute_result"
    }
   ],
   "source": [
    "arr_slice = arr[5:8]  # 슬라이스 복사본 X / 기존에서 필요한 부분만 다시 보여주기\n",
    "arr_slice"
   ]
  },
  {
   "cell_type": "code",
   "execution_count": 111,
   "id": "ade56a65-8960-4f25-9ae6-eca75a93e57b",
   "metadata": {},
   "outputs": [
    {
     "data": {
      "text/plain": [
       "array([1000, 1000, 1000])"
      ]
     },
     "execution_count": 111,
     "metadata": {},
     "output_type": "execute_result"
    }
   ],
   "source": [
    "arr_slice[:] = 1000\n",
    "arr_slice"
   ]
  },
  {
   "cell_type": "code",
   "execution_count": 113,
   "id": "48a9ec24-7100-43eb-a5ad-a3683b45c77e",
   "metadata": {},
   "outputs": [
    {
     "data": {
      "text/plain": [
       "array([   0,    1,    2,    3,    4, 1000, 1000, 1000,    8,    9])"
      ]
     },
     "execution_count": 113,
     "metadata": {},
     "output_type": "execute_result"
    }
   ],
   "source": [
    "arr  # 슬라이스는 복사가 아니다! Broadcating"
   ]
  },
  {
   "cell_type": "code",
   "execution_count": 122,
   "id": "45e4c444-5f4b-4812-ba2b-0f57434b093c",
   "metadata": {},
   "outputs": [],
   "source": [
    "# 슬라이스로 복사본을 만드려면,\n",
    "copy_arr = arr[3:6].copy()"
   ]
  },
  {
   "cell_type": "code",
   "execution_count": 125,
   "id": "ebfe1829-a3b7-44a8-aa30-4bb3fc91015b",
   "metadata": {},
   "outputs": [
    {
     "data": {
      "text/plain": [
       "(array([   0,    1,    2,    3,    4, 1000, 1000, 1000,    8,    9]),\n",
       " array([1, 1, 1]))"
      ]
     },
     "execution_count": 125,
     "metadata": {},
     "output_type": "execute_result"
    }
   ],
   "source": [
    "copy_arr[:] = 1\n",
    "arr, copy_arr"
   ]
  },
  {
   "cell_type": "code",
   "execution_count": 138,
   "id": "947b271c-065b-4f7e-aef5-990bcc574c6d",
   "metadata": {},
   "outputs": [
    {
     "data": {
      "text/plain": [
       "array([[-1.23516034, -0.17758597,  1.47472801],\n",
       "       [ 0.71654331,  0.80315212,  0.31597711]])"
      ]
     },
     "execution_count": 138,
     "metadata": {},
     "output_type": "execute_result"
    }
   ],
   "source": [
    "arr2d = np.random.randn(2, 3)\n",
    "arr2d"
   ]
  },
  {
   "cell_type": "code",
   "execution_count": 141,
   "id": "5f2349aa-a3fe-453d-b1a4-41fe84d7341a",
   "metadata": {},
   "outputs": [
    {
     "data": {
      "text/plain": [
       "True"
      ]
     },
     "execution_count": 141,
     "metadata": {},
     "output_type": "execute_result"
    }
   ],
   "source": [
    "arr2d[0][1] == arr2d[0, 1]"
   ]
  },
  {
   "cell_type": "code",
   "execution_count": 145,
   "id": "78958837-f86c-410a-908a-ad1ca0a17b76",
   "metadata": {},
   "outputs": [
    {
     "data": {
      "text/plain": [
       "array([[-0.17758597],\n",
       "       [ 0.80315212]])"
      ]
     },
     "execution_count": 145,
     "metadata": {},
     "output_type": "execute_result"
    }
   ],
   "source": [
    "arr2d[:, 1:2]"
   ]
  },
  {
   "cell_type": "code",
   "execution_count": 146,
   "id": "78ec1efb-06b2-46ee-a613-c30b39e6529a",
   "metadata": {},
   "outputs": [],
   "source": [
    "# Bool"
   ]
  },
  {
   "cell_type": "code",
   "execution_count": 148,
   "id": "97dd1e33-4996-4d03-88ab-86d92d29f487",
   "metadata": {},
   "outputs": [],
   "source": [
    "names = np.array(['bob', 'joe', 'will', 'bob', 'will', 'joe', 'joe'])"
   ]
  },
  {
   "cell_type": "code",
   "execution_count": 150,
   "id": "e362bc9b-d042-4dc9-9f1b-51a1b2215744",
   "metadata": {},
   "outputs": [
    {
     "data": {
      "text/plain": [
       "array([ True, False, False,  True, False, False, False])"
      ]
     },
     "execution_count": 150,
     "metadata": {},
     "output_type": "execute_result"
    }
   ],
   "source": [
    "names == 'bob'"
   ]
  },
  {
   "cell_type": "code",
   "execution_count": 152,
   "id": "c81ddb4b-27d5-46db-bdd3-b63016d39fdc",
   "metadata": {},
   "outputs": [
    {
     "data": {
      "text/plain": [
       "array([[ 0.55401351,  0.42168354,  1.08407833,  1.58421567],\n",
       "       [-0.826676  ,  0.13097413,  0.8193763 , -0.28476064],\n",
       "       [ 0.92677994, -0.70337143,  0.04796952,  0.54932905],\n",
       "       [ 1.35694505, -0.85607741, -0.21028428, -0.89539429],\n",
       "       [-0.26270418,  0.05807059,  0.69091584,  1.64431603],\n",
       "       [ 0.01360628, -1.32848624, -0.00556146, -1.70035477],\n",
       "       [-0.97277689,  1.66893908,  1.12629996,  1.12057485]])"
      ]
     },
     "execution_count": 152,
     "metadata": {},
     "output_type": "execute_result"
    }
   ],
   "source": [
    "data = np.random.randn(7, 4)\n",
    "data"
   ]
  },
  {
   "cell_type": "code",
   "execution_count": 155,
   "id": "37c9d34f-50f8-471c-aa53-7c8599575fd3",
   "metadata": {},
   "outputs": [
    {
     "data": {
      "text/plain": [
       "array([[ 0.55401351,  0.42168354,  1.08407833,  1.58421567],\n",
       "       [ 1.35694505, -0.85607741, -0.21028428, -0.89539429]])"
      ]
     },
     "execution_count": 155,
     "metadata": {},
     "output_type": "execute_result"
    }
   ],
   "source": [
    "# data[[ True, False, False,  True, False, False, False]]\n",
    "data[names == 'bob']  # row 수와 index 배열의 개수가 맞다면, True 인 애들만 남긴다."
   ]
  },
  {
   "cell_type": "code",
   "execution_count": 162,
   "id": "ab594268-8c22-4f4a-9033-74f352234695",
   "metadata": {},
   "outputs": [
    {
     "data": {
      "text/plain": [
       "array([[-0.826676  ,  0.13097413,  0.8193763 , -0.28476064],\n",
       "       [ 0.92677994, -0.70337143,  0.04796952,  0.54932905],\n",
       "       [-0.26270418,  0.05807059,  0.69091584,  1.64431603],\n",
       "       [ 0.01360628, -1.32848624, -0.00556146, -1.70035477],\n",
       "       [-0.97277689,  1.66893908,  1.12629996,  1.12057485]])"
      ]
     },
     "execution_count": 162,
     "metadata": {},
     "output_type": "execute_result"
    }
   ],
   "source": [
    "cond = names == 'bob'\n",
    "data[~cond]"
   ]
  },
  {
   "cell_type": "code",
   "execution_count": 166,
   "id": "3a4ac7c4-2737-4fb8-84f6-1c12ff13bc10",
   "metadata": {},
   "outputs": [
    {
     "data": {
      "text/plain": [
       "array([[0.55401351, 0.42168354, 1.08407833, 1.58421567],\n",
       "       [0.        , 0.13097413, 0.8193763 , 0.        ],\n",
       "       [0.92677994, 0.        , 0.04796952, 0.54932905],\n",
       "       [1.35694505, 0.        , 0.        , 0.        ],\n",
       "       [0.        , 0.05807059, 0.69091584, 1.64431603],\n",
       "       [0.01360628, 0.        , 0.        , 0.        ],\n",
       "       [0.        , 1.66893908, 1.12629996, 1.12057485]])"
      ]
     },
     "execution_count": 166,
     "metadata": {},
     "output_type": "execute_result"
    }
   ],
   "source": [
    "# data 중에서 음수들은 0으로 바꾼다.\n",
    "data[data < 0] = 0\n",
    "\n",
    "data"
   ]
  },
  {
   "cell_type": "code",
   "execution_count": 183,
   "id": "f3583a93-a8cb-40e1-89dd-265d41e9e8b6",
   "metadata": {},
   "outputs": [
    {
     "data": {
      "text/plain": [
       "array([[0., 0., 0., 0.],\n",
       "       [1., 1., 1., 1.],\n",
       "       [2., 2., 2., 2.],\n",
       "       [3., 3., 3., 3.],\n",
       "       [4., 4., 4., 4.],\n",
       "       [5., 5., 5., 5.],\n",
       "       [6., 6., 6., 6.],\n",
       "       [7., 7., 7., 7.]])"
      ]
     },
     "execution_count": 183,
     "metadata": {},
     "output_type": "execute_result"
    }
   ],
   "source": [
    "# Fancy Indexing\n",
    "arr = np.zeros((8, 4))\n",
    "\n",
    "for i in range(8):\n",
    "    arr[i] = i\n",
    "\n",
    "arr"
   ]
  },
  {
   "cell_type": "code",
   "execution_count": 184,
   "id": "dd8e487b-11ab-4658-ba18-749c19825942",
   "metadata": {},
   "outputs": [
    {
     "data": {
      "text/plain": [
       "array([[4., 4., 4., 4.],\n",
       "       [3., 3., 3., 3.],\n",
       "       [0., 0., 0., 0.],\n",
       "       [6., 6., 6., 6.]])"
      ]
     },
     "execution_count": 184,
     "metadata": {},
     "output_type": "execute_result"
    }
   ],
   "source": [
    "# index 를 list로 넘기기\n",
    "arr[[4, 3, 0, 6]]  # 해당 index 순서대로 array를 재배치하여 제공"
   ]
  },
  {
   "cell_type": "code",
   "execution_count": 185,
   "id": "47c09358-3a8e-4300-a446-a28ea474cd30",
   "metadata": {},
   "outputs": [
    {
     "data": {
      "text/plain": [
       "array([[7., 7., 7., 7.],\n",
       "       [5., 5., 5., 5.],\n",
       "       [3., 3., 3., 3.]])"
      ]
     },
     "execution_count": 185,
     "metadata": {},
     "output_type": "execute_result"
    }
   ],
   "source": [
    "arr[[-1, -3, -5]]"
   ]
  },
  {
   "cell_type": "code",
   "execution_count": 189,
   "id": "216f7d5d-eba7-4541-bff9-b95b83de560c",
   "metadata": {},
   "outputs": [],
   "source": [
    "# 배열 전치 (row/col 바꿈)\n",
    "arr = np.arange(15).reshape(3, 5)"
   ]
  },
  {
   "cell_type": "code",
   "execution_count": 192,
   "id": "09cbc355-9d19-4840-8e2c-aece65ea5f08",
   "metadata": {},
   "outputs": [
    {
     "data": {
      "text/plain": [
       "(array([[ 0,  1,  2,  3,  4],\n",
       "        [ 5,  6,  7,  8,  9],\n",
       "        [10, 11, 12, 13, 14]]),\n",
       " array([[ 0,  5, 10],\n",
       "        [ 1,  6, 11],\n",
       "        [ 2,  7, 12],\n",
       "        [ 3,  8, 13],\n",
       "        [ 4,  9, 14]]))"
      ]
     },
     "execution_count": 192,
     "metadata": {},
     "output_type": "execute_result"
    }
   ],
   "source": [
    "arr, arr.T"
   ]
  },
  {
   "cell_type": "code",
   "execution_count": 211,
   "id": "5da43547-fabd-452f-8f85-2095cd98be01",
   "metadata": {},
   "outputs": [
    {
     "data": {
      "text/plain": [
       "array([[ 0.40487165,  0.01043839,  0.94045892,  0.30387913],\n",
       "       [ 1.34442694,  0.56401619,  0.18437994,  0.26548946],\n",
       "       [ 1.02452951,  0.9690232 , -2.38056517, -1.13852051],\n",
       "       [ 0.87765686, -0.61558568,  0.84697825, -1.45943311],\n",
       "       [-0.38248909,  0.77642476, -0.1203305 , -1.86439556]])"
      ]
     },
     "execution_count": 211,
     "metadata": {},
     "output_type": "execute_result"
    }
   ],
   "source": [
    "# 수학 메서드/통계 메서드\n",
    "arr = np.random.randn(5, 4)\n",
    "arr"
   ]
  },
  {
   "cell_type": "code",
   "execution_count": 212,
   "id": "c884b411-5c14-4827-8635-3be5e0504ac3",
   "metadata": {},
   "outputs": [
    {
     "data": {
      "text/plain": [
       "0.027562678519197026"
      ]
     },
     "execution_count": 212,
     "metadata": {},
     "output_type": "execute_result"
    }
   ],
   "source": [
    "arr.mean()"
   ]
  },
  {
   "cell_type": "code",
   "execution_count": 213,
   "id": "70f322c4-3f0f-411c-9162-3e2ee3642780",
   "metadata": {},
   "outputs": [
    {
     "data": {
      "text/plain": [
       "0.027562678519197026"
      ]
     },
     "execution_count": 213,
     "metadata": {},
     "output_type": "execute_result"
    }
   ],
   "source": [
    "np.mean(arr)"
   ]
  },
  {
   "cell_type": "code",
   "execution_count": 220,
   "id": "b32ed609-6a99-4086-9830-b9b8375c14b7",
   "metadata": {},
   "outputs": [
    {
     "data": {
      "text/plain": [
       "0.5512535703839405"
      ]
     },
     "execution_count": 220,
     "metadata": {},
     "output_type": "execute_result"
    }
   ],
   "source": [
    "arr.sum()  # 전체 총합"
   ]
  },
  {
   "cell_type": "code",
   "execution_count": 224,
   "id": "f0adaf5e-6175-4742-8562-aef200fe8aaa",
   "metadata": {},
   "outputs": [
    {
     "data": {
      "text/plain": [
       "array([ 3.26899587,  1.70431685, -0.52907856, -3.89298059])"
      ]
     },
     "execution_count": 224,
     "metadata": {},
     "output_type": "execute_result"
    }
   ],
   "source": [
    "arr.sum(0)  # 각 열에 대해서 합계"
   ]
  },
  {
   "cell_type": "code",
   "execution_count": 227,
   "id": "ba6e8c8d-a319-4899-9cbc-f01015bfb471",
   "metadata": {},
   "outputs": [
    {
     "data": {
      "text/plain": [
       "array([ 1.65964809,  2.35831253, -1.52553297, -0.35038369, -1.59079039])"
      ]
     },
     "execution_count": 227,
     "metadata": {},
     "output_type": "execute_result"
    }
   ],
   "source": [
    "arr.sum(1)  # 각 행에 대해 합계"
   ]
  }
 ],
 "metadata": {
  "kernelspec": {
   "display_name": "Python 3 (ipykernel)",
   "language": "python",
   "name": "python3"
  },
  "language_info": {
   "codemirror_mode": {
    "name": "ipython",
    "version": 3
   },
   "file_extension": ".py",
   "mimetype": "text/x-python",
   "name": "python",
   "nbconvert_exporter": "python",
   "pygments_lexer": "ipython3",
   "version": "3.11.6"
  }
 },
 "nbformat": 4,
 "nbformat_minor": 5
}
