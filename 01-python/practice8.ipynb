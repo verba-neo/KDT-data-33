{
 "cells": [
  {
   "cell_type": "markdown",
   "metadata": {},
   "source": [
    "# 메소드 없는 세상\n",
    "\n",
    "> 우리는 문자열을 만들어 나갈 때, `.join(iterable)` 함수를 사용합니다. \n",
    ">\n",
    "> `.join(iterable)`이 생각나지 않을 때를 위해 함수를 직접 만들어보면서 감사함을 느껴봅시다.\n",
    ">\n",
    "> 함수 `my_join(target, word)`를 작성하여 문자열을 반환하세요.\n",
    ">\n",
    "> `target`은 바꿀 대상(iterable)이며, `word`는 합쳐지는 단어입니다. \n",
    "\n",
    "---\n",
    "\n",
    "\n",
    "예시)\n",
    "\n",
    "`''.join(a)` 와 `my_join(a, '')`은 같은 함수 호출입니다.\n",
    "\n",
    "```python\n",
    "print(my_join('배고파', '.')) # => 배.고.파\n",
    "print(my_join(['1', '2', '3'], '')) # => 123\n",
    "```"
   ]
  },
  {
   "cell_type": "code",
   "execution_count": null,
   "metadata": {},
   "outputs": [],
   "source": [
    "# 아래에 코드를 작성하세요."
   ]
  },
  {
   "cell_type": "code",
   "execution_count": 9,
   "metadata": {},
   "outputs": [],
   "source": [
    "def my_join(target, word):\n",
    "    answer = ''\n",
    "    for char in target:\n",
    "        answer += char + word\n",
    "    \n",
    "    # 맨 마지막 word 는 떼고 return 하기\n",
    "    return answer[:-len(word)] if word else answer"
   ]
  },
  {
   "cell_type": "code",
   "execution_count": 11,
   "metadata": {},
   "outputs": [
    {
     "name": "stdout",
     "output_type": "stream",
     "text": [
      "배123456고123456파\n",
      "123\n"
     ]
    }
   ],
   "source": [
    "# 해당 코드를 통해 올바른 결과가 나오는지 확인하세요.\n",
    "print(my_join('배고파', '123456'))\n",
    "print(my_join(['1', '2', '3'], ''))"
   ]
  },
  {
   "cell_type": "markdown",
   "metadata": {},
   "source": [
    "# 숨바꼭질\n",
    "\n",
    "> 숫자가 주어지면, 사용되지 않은 숫자를 프린트하는 함수를 작성하세요.\n",
    "\n",
    "---\n",
    "\n",
    "예시)\n",
    "\n",
    "```python\n",
    "unused_digits(12, 34, 56, 78) # => '09'\n",
    "\n",
    "unused_digits(2015, 8, 26)  # => '3479'\n",
    "```\n",
    "\n",
    "\n",
    "**결과값은 정렬되어야 합니다.**\n",
    "\n"
   ]
  },
  {
   "cell_type": "code",
   "execution_count": null,
   "metadata": {},
   "outputs": [],
   "source": [
    "# 아래에 코드를 작성하세요."
   ]
  },
  {
   "cell_type": "code",
   "execution_count": 18,
   "metadata": {},
   "outputs": [],
   "source": [
    "def unused_digits(*numbers):\n",
    "    # (12, 34, 56, 78) => '12345678'\n",
    "    num_str = ''.join(map(str, numbers))\n",
    "    \n",
    "    answer = ''\n",
    "\n",
    "    for n in range(10):\n",
    "        if str(n) not in num_str:\n",
    "            answer += str(n)\n",
    "    \n",
    "    return answer"
   ]
  },
  {
   "cell_type": "code",
   "execution_count": 23,
   "metadata": {},
   "outputs": [],
   "source": [
    "def unused_digits(*numbers):\n",
    "    # (12, 34, 56, 78) => '12345678'\n",
    "    num_str = ''.join(map(str, numbers))\n",
    "    answer = [str(n) for n in range(10) if str(n) not in num_str]\n",
    "    return ''.join(answer)"
   ]
  },
  {
   "cell_type": "code",
   "execution_count": 24,
   "metadata": {},
   "outputs": [
    {
     "name": "stdout",
     "output_type": "stream",
     "text": [
      "09\n",
      "3479\n"
     ]
    }
   ],
   "source": [
    "# 해당 코드를 통해 올바른 결과가 나오는지 확인하세요.\n",
    "print(unused_digits(12, 34, 56, 78))\n",
    "print(unused_digits(2015, 8, 26))"
   ]
  },
  {
   "cell_type": "markdown",
   "metadata": {},
   "source": [
    "# 짝홀짝홀"
   ]
  },
  {
   "cell_type": "markdown",
   "metadata": {},
   "source": [
    "> n개의 양의 정수 리스트가 주어지면, 홀수와 짝수를 분리하고 각각의 조건에 맞게 홀수와 짝수를 \n",
    "정렬하는 함수를 작성하세요.\n",
    "\n",
    "> **조건**\n",
    "1. 짝수와 홀수가 번갈아 가면서 나오게 됩니다.\n",
    "2. 짝수가 먼저 시작됩니다.\n",
    "3. 짝수는 오름차순으로 홀수는 내림차순으로 되어야합니다.\n",
    "\n",
    "> **실습 입력 인자 조건**\n",
    "1. 인자 리스트의 크기는 적어도 4이상입니다.\n",
    "2. 인자 리스트의 요소값으로 0은 존재하지 않습니다.\n",
    "3. 인자 리스트의 요소값이 반복될 수 있으나 출력할 때는 중복 값이 없습니다.\n",
    "\n",
    "---\n",
    "\n",
    "예시)\n",
    "\n",
    "```python\n",
    "print(even_and_odd([7, 3 , 14 , 17]))\n",
    "# => [14, 17, 7, 3]\n",
    "\n",
    "print(even_and_odd([1, 3, 5, 7, 9, 11]))\n",
    "# => [11, 9, 7, 5, 3, 1]\n",
    "\n",
    "print(even_and_odd([1, 2, 2, 4, 4, 6, 6, 2004, 9, 11]))\n",
    "# => [2, 11, 4, 9, 6, 1, 2004]\n",
    "```"
   ]
  },
  {
   "cell_type": "code",
   "execution_count": null,
   "metadata": {},
   "outputs": [],
   "source": [
    "# 아래에 코드를 작성하세요."
   ]
  },
  {
   "cell_type": "code",
   "execution_count": 34,
   "metadata": {},
   "outputs": [],
   "source": [
    "def even_and_odd(numbers):\n",
    "    evens = []\n",
    "    odds = []\n",
    "    # 짝수 홀수 나누기\n",
    "    for num in numbers:\n",
    "        if num % 2:\n",
    "            odds.append(num)\n",
    "        else:\n",
    "            evens.append(num)\n",
    "    \n",
    "    # 중복 제거\n",
    "    odds = list(set(odds))\n",
    "    evens = list(set(evens))\n",
    "    \n",
    "    odds.sort()\n",
    "    evens.sort(reverse=True)\n",
    "\n",
    "    answer = []\n",
    "    \n",
    "    # odds 나 evens 중에 한개라도 값이 남아 있으면 반복\n",
    "    while odds or evens:\n",
    "        # evens 에 값이 남아있다면\n",
    "        if evens:\n",
    "            # 하나 뽑아서\n",
    "            even_no = evens.pop()\n",
    "            # 답에 추가\n",
    "            answer.append(even_no)\n",
    "        if odds:\n",
    "            odd_no = odds.pop()\n",
    "            answer.append(odd_no)\n",
    "    \n",
    "    return answer\n",
    "    "
   ]
  },
  {
   "cell_type": "code",
   "execution_count": 36,
   "metadata": {
    "scrolled": true
   },
   "outputs": [
    {
     "name": "stdout",
     "output_type": "stream",
     "text": [
      "[14, 17, 7, 3]\n",
      "[11, 9, 7, 5, 3, 1]\n",
      "[2, 11, 4, 9, 6, 1, 2004]\n"
     ]
    }
   ],
   "source": [
    "# 해당 코드를 통해 올바른 결과가 나오는지 확인하세요.\n",
    "print(even_and_odd([7, 3 , 14 , 17]))\n",
    "# => [14, 17, 7, 3]\n",
    "\n",
    "print(even_and_odd([1, 3, 5, 7, 9, 11]))\n",
    "# => [11, 9, 7, 5, 3, 1]\n",
    "\n",
    "print(even_and_odd([1, 2, 2, 4, 4, 6, 6, 2004, 9, 11]))\n",
    "# => [2, 11, 4, 9, 6, 1, 2004]"
   ]
  },
  {
   "cell_type": "markdown",
   "metadata": {},
   "source": [
    "# 문자열 계산하기\n",
    "\n",
    "> 아래와 같이 문자열이 주어졌을 때, 바보같은 사용자를 위해 계산을 해주려고 합니다.\n",
    ">\n",
    "> 이 계산기는 더하기와 빼기밖에 못합니다.\n",
    ">\n",
    "> 함수 `calc(equation)`을 작성하세요.\n",
    "\n",
    "---\n",
    "\n",
    "예시)\n",
    "\n",
    "```python\n",
    "calc('123+2-124')\n",
    "#=> 1\n",
    "\n",
    "calc('-12+12-7979+9191')\n",
    "#=> 1212\n",
    "\n",
    "calc('+1-1+1-1+1-1+1-1+1-1+1-1+1-1+1-1+1-1+1-1+1-1+1-1+1-1+1-1+1-1+1-1')\n",
    "#=> 0\n",
    "```"
   ]
  },
  {
   "cell_type": "code",
   "execution_count": null,
   "metadata": {},
   "outputs": [],
   "source": [
    "# 아래에 코드를 작성하세요."
   ]
  },
  {
   "cell_type": "code",
   "execution_count": 51,
   "metadata": {},
   "outputs": [],
   "source": [
    "def calc(code):\n",
    "    # return eval(code)\n",
    "    answer = 0\n",
    "    num_str = '0'\n",
    "\n",
    "    for char in code:\n",
    "        \n",
    "        # +- 일 경우에는  \n",
    "        if char in '+-':\n",
    "            # 쌓아오던 글숫자들을 정수로 바꿔서 더하고,\n",
    "            answer += int(num_str)\n",
    "            # +- 로 초기화\n",
    "            num_str = char\n",
    "        \n",
    "        # 숫자면 \n",
    "        else:\n",
    "            # 쌓아가기\n",
    "            num_str += char\n",
    "\n",
    "    answer += int(num_str)\n",
    "    return answer"
   ]
  },
  {
   "cell_type": "code",
   "execution_count": 52,
   "metadata": {},
   "outputs": [
    {
     "name": "stdout",
     "output_type": "stream",
     "text": [
      "1\n",
      "1212\n",
      "0\n"
     ]
    }
   ],
   "source": [
    "# 해당 코드를 통해 올바른 결과가 나오는지 확인하세요.\n",
    "print(calc('123+2-124'))\n",
    "print(calc('-12+12-7979+9191'))\n",
    "print(calc('+1-1+1-1+1-1+1-1+1-1+1-1+1-1+1-1+1-1+1-1+1-1+1-1+1-1+1-1+1-1+1-1'))"
   ]
  },
  {
   "cell_type": "code",
   "execution_count": null,
   "metadata": {},
   "outputs": [],
   "source": [
    "\n"
   ]
  }
 ],
 "metadata": {
  "kernelspec": {
   "display_name": "Python 3 (ipykernel)",
   "language": "python",
   "name": "python3"
  },
  "language_info": {
   "codemirror_mode": {
    "name": "ipython",
    "version": 3
   },
   "file_extension": ".py",
   "mimetype": "text/x-python",
   "name": "python",
   "nbconvert_exporter": "python",
   "pygments_lexer": "ipython3",
   "version": "3.11.6"
  },
  "latex_envs": {
   "LaTeX_envs_menu_present": true,
   "autoclose": false,
   "autocomplete": true,
   "bibliofile": "biblio.bib",
   "cite_by": "apalike",
   "current_citInitial": 1,
   "eqLabelWithNumbers": true,
   "eqNumInitial": 1,
   "hotkeys": {
    "equation": "Ctrl-E",
    "itemize": "Ctrl-I"
   },
   "labels_anchors": false,
   "latex_user_defs": false,
   "report_style_numbering": false,
   "user_envs_cfg": false
  },
  "toc": {
   "base_numbering": 1,
   "nav_menu": {},
   "number_sections": true,
   "sideBar": true,
   "skip_h1_title": false,
   "title_cell": "Table of Contents",
   "title_sidebar": "Contents",
   "toc_cell": false,
   "toc_position": {},
   "toc_section_display": true,
   "toc_window_display": false
  },
  "vscode": {
   "interpreter": {
    "hash": "51d354aa4721e008858a28cad10f7efbfd288bcf50ac31411bfc117a31ae17c9"
   }
  }
 },
 "nbformat": 4,
 "nbformat_minor": 4
}
