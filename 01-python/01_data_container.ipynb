{
 "cells": [
  {
   "cell_type": "markdown",
   "metadata": {},
   "source": [
    "<p style=\"font-size: 33px; font-weight: 700; margin-bottom: 3rem\">컨테이너(Container)</p>\n",
    "\n",
    "여러 개의 값을 저장할 수 있는 것(~~객체~~)\n",
    "\n",
    "- 시퀀스(Sequence)형: 순서가 있는(ordered) 데이터\n",
    "- 비 시퀀스(Non-sequence)형: 순서가 없는(unordered) 데이터"
   ]
  },
  {
   "cell_type": "markdown",
   "metadata": {},
   "source": [
    "# 시퀀스(sequence)형 컨테이너\n",
    "\n",
    "`시퀀스`는 데이터가 순서대로 나열된(ordered) 형식을 나타냅니다. \n",
    "\n",
    "* **주의! 순서대로 나열된 것이 `정렬되었다(sorted)`라는 뜻은 아닙니다.**\n",
    "\n",
    "## 특징\n",
    "1. 순서를 가질 수 있습니다.\n",
    "\n",
    "2. **특정 위치의 데이터를 가리킬 수 있습니다.**\n",
    "\n",
    "## 종류\n",
    "파이썬에서 기본적인 시퀀스 타입은 다음과 같습니다.\n",
    "\n",
    "* 리스트(list)\n",
    "\n",
    "* 튜플(tuple)\n",
    "\n",
    "* 레인지(range)\n",
    "\n",
    "* *문자형(string)*\n",
    "\n",
    "* *바이너리(binary)* : 따로 다루지는 않습니다.\n"
   ]
  },
  {
   "cell_type": "markdown",
   "metadata": {},
   "source": [
    "\n",
    "## 리스트(`list`)\n",
    "\n",
    "<center><img src=\"https://user-images.githubusercontent.com/18046097/61180421-fe90ae80-a650-11e9-8211-d06f87756d05.png\", alt=\"list figure\"/></center>"
   ]
  },
  {
   "cell_type": "markdown",
   "metadata": {},
   "source": [
    "**활용법**\n",
    "```python\n",
    "[value1, value2, value3]\n",
    "```\n",
    "\n",
    "리스트는 대괄호`[]` 및 `list()` 를 통해 만들 수 있습니다.\n",
    "\n",
    "값에 대한 접근은 `list[i]`를 통해 합니다."
   ]
  },
  {
   "cell_type": "code",
   "execution_count": null,
   "metadata": {},
   "outputs": [],
   "source": [
    "# 빈 list를 만들어봅시다.\n",
    "# 변수명 my_list인 list를 대괄호로 만들어봅시다.\n",
    "# 변수명 another_list인 list를 list()로 만들어 봅시다.\n",
    "# 두 변수의 타입을 출력해 봅시다.\n",
    "my_list = []\n",
    "another_list = list()\n",
    "\n",
    "print(my_list, another_list)\n",
    "type(my_list)"
   ]
  },
  {
   "cell_type": "code",
   "execution_count": 39,
   "metadata": {},
   "outputs": [],
   "source": [
    "# 원소를 포함한 list를 만들어 봅시다.\n",
    "# 변수명이 locations인 list에 지역 5곳을 원소로 포함해 만들어 봅시다.\n",
    "# 변수 locations을 출력해 봅시다.\n",
    "# locations의 타입을 출력해 봅시다.\n",
    "\n",
    "# 1. 리스트/튜플 은 변수명을 복수형으로 만든다.\n",
    "# 2. , 뒤에 띄어쓰기 필수\n",
    "\n",
    "locations = ['서울', '성남', '부산', '대구', '울산', '인천', '일산']"
   ]
  },
  {
   "cell_type": "code",
   "execution_count": 40,
   "metadata": {},
   "outputs": [
    {
     "data": {
      "text/plain": [
       "'서울'"
      ]
     },
     "execution_count": 40,
     "metadata": {},
     "output_type": "execute_result"
    }
   ],
   "source": [
    "# locations의 첫번째 값을 인덱스로 접근해 봅시다.\n",
    "locations[0]"
   ]
  },
  {
   "cell_type": "code",
   "execution_count": 45,
   "metadata": {},
   "outputs": [
    {
     "data": {
      "text/plain": [
       "['세종', '성남', '부산', '대구', '울산', '인천', '일산']"
      ]
     },
     "execution_count": 45,
     "metadata": {},
     "output_type": "execute_result"
    }
   ],
   "source": [
    "# locations 의 첫번째 값을 바꿔봅시다. (mutable)\n",
    "locations[0] = '세종'\n",
    "locations"
   ]
  },
  {
   "cell_type": "markdown",
   "metadata": {},
   "source": [
    "## 튜플(`tuple`)\n",
    "\n",
    "**활용법**\n",
    "```python\n",
    "(value1, value2)\n",
    "```\n",
    "\n",
    "튜플은 리스트와 유사하지만, `()`로 묶어서 표현합니다.\n",
    "\n",
    "그리고 tuple은 수정 불가능(불변, immutable)하고, 읽을 수 밖에 없습니다.\n",
    "\n",
    "직접 사용하기 보다는 파이썬 내부에서 다양한 용도로 활용되고 있습니다."
   ]
  },
  {
   "cell_type": "code",
   "execution_count": null,
   "metadata": {},
   "outputs": [],
   "source": [
    "# tuple을 만들어봅시다.\n",
    "# 변수명이 my_tuple인 tuple을 만들어 봅시다. 단, 무작위 정수 2개를 포함하여 만듭니다.\n",
    "# my_tuple의 타입을 출력해 봅시다.\n",
    "my_tuple = (1, 2)\n",
    "print(my_tuple, type(my_tuple))"
   ]
  },
  {
   "cell_type": "code",
   "execution_count": null,
   "metadata": {},
   "outputs": [],
   "source": [
    "# 아래와 같은 방식으로도 만들 수 있습니다.\n",
    "t = 1, 2, 3, 4, 5\n",
    "print(t, type(t))"
   ]
  },
  {
   "cell_type": "code",
   "execution_count": null,
   "metadata": {},
   "outputs": [],
   "source": [
    "# 파이썬 내부에서는 다음과 같이 활용됩니다. (변수 및 자료형 예제에서 사용된 코드입니다.)\n",
    "\n",
    "x, y = 1, 2\n",
    "print(x)\n",
    "print(y)"
   ]
  },
  {
   "cell_type": "code",
   "execution_count": null,
   "metadata": {},
   "outputs": [],
   "source": [
    "# 실제로는 tuple로 처리됩니다.\n",
    "(x, y) = (1, 2)\n",
    "\n",
    "print(x)\n",
    "print(y)"
   ]
  },
  {
   "cell_type": "code",
   "execution_count": null,
   "metadata": {},
   "outputs": [],
   "source": [
    "# 변수의 값을 swap하는 코드 역시 tuple을 활용하고 있습니다. \n",
    "(x, y) = (y, x)\n"
   ]
  },
  {
   "cell_type": "code",
   "execution_count": null,
   "metadata": {},
   "outputs": [],
   "source": [
    "# 변수명이 empty인 빈 tuple을 만들어 봅시다.\n",
    "# 빈 tuple은 빈 괄호 쌍으로 만들어집니다.\n",
    "# empty의 타입을 출력해 봅시다.\n",
    "# empty의 길이를 출력해 봅시다.\n",
    "\n",
    "empty = ()\n",
    "\n",
    "type(empty)"
   ]
  },
  {
   "cell_type": "code",
   "execution_count": null,
   "metadata": {},
   "outputs": [],
   "source": [
    "# 변수명이 single_tuple인 하나의 요소(값)로 구성된 tuple을 만들어 봅시다. (길이가 1)\n",
    "# 하나의 요소(값)로 구성된 tuple은 값 뒤에 쉼표를 붙여서 만듭니다.\n",
    "# single_tuple의 타입을 출력해 봅시다.\n",
    "# single_tuple의 길이를 출력해 봅시다.\n",
    "\n",
    "single = (1, )\n",
    "\n",
    "print(type(single))"
   ]
  },
  {
   "cell_type": "code",
   "execution_count": null,
   "metadata": {},
   "outputs": [],
   "source": [
    "# 길이가 1인 tuple을 만들 때 쉼표가 없는 경우 어떻게 되는지 확인 해봅시다."
   ]
  },
  {
   "cell_type": "code",
   "execution_count": 47,
   "metadata": {},
   "outputs": [
    {
     "ename": "TypeError",
     "evalue": "'tuple' object does not support item assignment",
     "output_type": "error",
     "traceback": [
      "\u001b[1;31m---------------------------------------------------------------------------\u001b[0m",
      "\u001b[1;31mTypeError\u001b[0m                                 Traceback (most recent call last)",
      "Cell \u001b[1;32mIn[47], line 3\u001b[0m\n\u001b[0;32m      1\u001b[0m \u001b[38;5;66;03m# Tuple은 값을 바꿀 수 ??\u001b[39;00m\n\u001b[0;32m      2\u001b[0m t \u001b[38;5;241m=\u001b[39m (\u001b[38;5;241m1\u001b[39m, \u001b[38;5;241m2\u001b[39m, \u001b[38;5;241m3\u001b[39m)\n\u001b[1;32m----> 3\u001b[0m \u001b[43mt\u001b[49m\u001b[43m[\u001b[49m\u001b[38;5;241;43m0\u001b[39;49m\u001b[43m]\u001b[49m \u001b[38;5;241m=\u001b[39m \u001b[38;5;241m100\u001b[39m\n",
      "\u001b[1;31mTypeError\u001b[0m: 'tuple' object does not support item assignment"
     ]
    }
   ],
   "source": [
    "# Tuple은 값을 바꿀 수 없다 (immutable)\n",
    "t = (1, 2, 3)\n",
    "t[0] = 100"
   ]
  },
  {
   "cell_type": "markdown",
   "metadata": {},
   "source": [
    "## 레인지(`range()`)\n",
    "\n",
    "`range` 는 숫자의 시퀀스를 나타내기 위해 사용됩니다.\n",
    "\n",
    "기본형 : `range(n)` \n",
    "\n",
    "\n",
    "> 0부터 n-1까지 값을 가짐\n",
    "\n",
    "\n",
    "범위 지정 : `range(n, m)` \n",
    "\n",
    "> n부터 m-1까지 값을 가짐\n",
    "\n",
    "범위 및 스텝 지정 : `range(n, m, s)`\n",
    "\n",
    "> n부터 m-1까지 +s만큼 증가한다"
   ]
  },
  {
   "cell_type": "code",
   "execution_count": null,
   "metadata": {},
   "outputs": [],
   "source": [
    "# range를 만들어봅시다.\n",
    "# 0부터 2까지 값을 가지는 range를 만들고 타입을 출력해 봅시다.\n",
    "\n",
    "2 in range(3)"
   ]
  },
  {
   "cell_type": "code",
   "execution_count": null,
   "metadata": {},
   "outputs": [],
   "source": [
    "# 0부터 9까지 값을 가지는 range를 만들고 list로 형 변환을 해 봅시다.\n",
    "# 작성한 range를 list()로 감싸 형 변환 할 수 있습니다.\n",
    "list(range(10))"
   ]
  },
  {
   "cell_type": "code",
   "execution_count": null,
   "metadata": {},
   "outputs": [],
   "source": [
    "# 4부터 8까지의 숫자를 담은 range를 만들고 list로 형 변환을 해 봅시다.\n",
    "list(range(4, 9))"
   ]
  },
  {
   "cell_type": "code",
   "execution_count": null,
   "metadata": {},
   "outputs": [],
   "source": [
    "# range(start, end, [step, ])을 활용합니다.\n",
    "# 0부터 -9까지 담긴 range를 만들고 list로 형 변환을 해 봅시다.\n",
    "# 출력 결과는 다음과 같습니다.\n",
    "# [0, -1, -2, -3, -4, -5, -6, -7, -8, -9]\n",
    "list(range(1, 11, 2))\n",
    "list(range(0, -10, -1))\n",
    "list(range(3, 10, 2))\n",
    "list(range(5, 0, -1))"
   ]
  },
  {
   "cell_type": "code",
   "execution_count": 50,
   "metadata": {},
   "outputs": [
    {
     "ename": "TypeError",
     "evalue": "'range' object does not support item assignment",
     "output_type": "error",
     "traceback": [
      "\u001b[1;31m---------------------------------------------------------------------------\u001b[0m",
      "\u001b[1;31mTypeError\u001b[0m                                 Traceback (most recent call last)",
      "Cell \u001b[1;32mIn[50], line 2\u001b[0m\n\u001b[0;32m      1\u001b[0m r \u001b[38;5;241m=\u001b[39m \u001b[38;5;28mrange\u001b[39m(\u001b[38;5;241m3\u001b[39m, \u001b[38;5;241m5\u001b[39m)\n\u001b[1;32m----> 2\u001b[0m \u001b[43mr\u001b[49m\u001b[43m[\u001b[49m\u001b[38;5;241;43m0\u001b[39;49m\u001b[43m]\u001b[49m \u001b[38;5;241m=\u001b[39m \u001b[38;5;241m100\u001b[39m\n",
      "\u001b[1;31mTypeError\u001b[0m: 'range' object does not support item assignment"
     ]
    }
   ],
   "source": [
    "# immutable\n",
    "r = range(3, 5)\n",
    "r[0] = 100"
   ]
  },
  {
   "cell_type": "markdown",
   "metadata": {},
   "source": [
    "\n",
    "## 시퀀스에서 활용할 수 있는 연산자/함수 \n",
    "\n",
    "|operation|설명|\n",
    "|---------|---|\n",
    "|x `in` s\t|containment test|\n",
    "|x `not in` s|containment test|\n",
    "|s1 `+` s2|concatenation|\n",
    "|s `*` n|n번만큼 반복하여 더하기\n",
    "|`s[i]`|indexing|\n",
    "|`s[i:j]`|slicing|\n",
    "|`s[i:j:k`]|k간격으로 slicing|\n",
    "|len(s)|길이|\n",
    "|min(s)|최솟값|\n",
    "|max(s)|최댓값|\n",
    "|s.count(x)|x의 개수|"
   ]
  },
  {
   "cell_type": "code",
   "execution_count": null,
   "metadata": {},
   "outputs": [],
   "source": [
    "# containment test를 확인해봅시다.\n",
    "# 변수 my_string에 문자열 'string'을 담습니다.\n",
    "# 문자열 'a'가 my_string에 포함되는지 'in' 연산자를 통해 확인하고 결과를 출력해봅시다.\n",
    "my_string = 'string'\n",
    "\n",
    "'a' in my_string"
   ]
  },
  {
   "cell_type": "code",
   "execution_count": null,
   "metadata": {},
   "outputs": [],
   "source": [
    "# containment test를 확인해봅시다.\n",
    "# 변수명이 my_list이고 정수 1, 2, 3, 5, 1들을 원소로 가지는 list를 만듭니다.\n",
    "# 정수 3이 my_list에 포함되는지 'in' 연산자를 통해 확인하고 결과를 출력해봅시다.\n",
    "my_list = [1, 2, 3, 5, 1]\n",
    "3 in my_list"
   ]
  },
  {
   "cell_type": "code",
   "execution_count": null,
   "metadata": {},
   "outputs": [],
   "source": [
    "# concatenation(연결, 연쇄)를 해봅시다.\n",
    "# 문자열 '안녕'과 문자열 '하세요'를 더하고 결과를 출력해 봅시다.\n",
    "# 정수 1과 2를 포함한 tuple과 정수 5와 6을 포함한 tuple을 더하고 결과를 출력해봅시다.\n",
    "'안녕' + '하세요'\n",
    "\n",
    "(1, 2) + (5, 6)"
   ]
  },
  {
   "cell_type": "code",
   "execution_count": null,
   "metadata": {},
   "outputs": [],
   "source": [
    "# 숫자 0이 6개 있는 list를 만들어봅시다.\n",
    "# 단, 곱셉 연산자를 활용하여 만듭니다.\n",
    "[0] * 6"
   ]
  },
  {
   "cell_type": "code",
   "execution_count": null,
   "metadata": {},
   "outputs": [],
   "source": [
    "# indexing과 slicing을 하기 위해 list하나를 만들어주세요.\n",
    "# 변수명은 location, 원소는 무작위 지역 5곳을 문자열로 작성합니다.\n",
    "# location의 첫번째 원소에 index로 접근해 봅시다.\n",
    "\n",
    "locations = ['서울', '성남', '인천', '부산', '울산']\n",
    "\n",
    "locations[0]"
   ]
  },
  {
   "cell_type": "code",
   "execution_count": null,
   "metadata": {},
   "outputs": [],
   "source": [
    "# 두번째, 세번째 값만 가져와봅시다.\n",
    "# slicing을 사용합니다.\n",
    "locations[1:3]"
   ]
  },
  {
   "cell_type": "code",
   "execution_count": null,
   "metadata": {},
   "outputs": [],
   "source": [
    "# 0부터 30까지의 정수를 원소로 가지는 list를 만들어 봅시다.\n",
    "# range를 활용하여 list를 생성합니다.\n",
    "numbers = list(range(31))\n",
    "print(numbers)"
   ]
  },
  {
   "cell_type": "code",
   "execution_count": null,
   "metadata": {},
   "outputs": [],
   "source": [
    "# list[start: end: step]\n",
    "# 위에서 작성한 list를 활용하여 0부터 30까지 3씩 증가하는 값을 가지는 새로운 list를 만들어 봅시다.\n",
    "# 새롭게 생성한 list를 출력해 봅시다.\n",
    "\n",
    "numbers[1:5]\n",
    "\n",
    "numbers[:11]  # numbers[0:11]  => 시작을 생략하면 처음부터\n",
    "numbers[20:]  # numbers[20:31]  => 끝을 생략하면 끝까지\n",
    "numbers[::3]  # numbers[0:31:3]  => 끝을 생략하면 끝까지\n",
    "numbers[::-1]  # numbers 를 뒤집어라\n",
    "numbers[0:5:-1]  # 시작:끝:스텝 (range랑 똑같다)\n",
    "\n",
    "new_nums = numbers[::3]\n",
    "new_nums"
   ]
  },
  {
   "cell_type": "code",
   "execution_count": null,
   "metadata": {},
   "outputs": [],
   "source": [
    "# 위에서 만든 list의 길이를 확인해봅시다.\n",
    "len(new_nums)"
   ]
  },
  {
   "cell_type": "code",
   "execution_count": null,
   "metadata": {},
   "outputs": [],
   "source": [
    "# 위에서 만든 list의 길이, 최솟값, 최댓값을 확인해봅시다.\n",
    "min(new_nums), max(new_nums)"
   ]
  },
  {
   "cell_type": "code",
   "execution_count": null,
   "metadata": {},
   "outputs": [],
   "source": [
    "# list에 담긴 특정한 것의 개수를 확인할 수도 있습니다.\n",
    "sample = [1, 2, 1, 2, 1, 1, 1]\n",
    "sample.count(1)"
   ]
  },
  {
   "cell_type": "markdown",
   "metadata": {},
   "source": [
    "# 비 시퀀스형(Non-sequence) 컨테이너\n",
    "\n",
    "- 세트(set)\n",
    "\n",
    "- 딕셔너리(dictionary)"
   ]
  },
  {
   "cell_type": "markdown",
   "metadata": {},
   "source": [
    "## `set`\n",
    "\n",
    "`set`은 순서가 없고 중복된 값이 없는 자료구조입니다.\n",
    "\n",
    "* `set`은 수학에서의 집합과 동일하게 처리됩니다. \n",
    "\n",
    "* `set`은 중괄호`{}`를 통해 만들며, 순서가 없고 중복된 값이 없습니다.\n",
    "\n",
    "* 빈 세트를 만들려면 `set()`을 사용해야 합니다. (`{}`로 사용 불가능)\n",
    "\n",
    "* 활용 가능한 연산자는 차집합(`-`), 합집합(`|`), 교집합(`&`)입니다.\n",
    "\n",
    "### 활용법\n",
    "```python\n",
    "{value1, value2, value3}\n",
    "```"
   ]
  },
  {
   "cell_type": "code",
   "execution_count": null,
   "metadata": {},
   "outputs": [],
   "source": [
    "# set 두개를 만들어서 연산자들을 활용해봅시다."
   ]
  },
  {
   "cell_type": "code",
   "execution_count": null,
   "metadata": {},
   "outputs": [],
   "source": [
    "set_a = {1, 2, 3}\n",
    "set_b = {3, 6, 9}"
   ]
  },
  {
   "cell_type": "markdown",
   "metadata": {},
   "source": [
    "* 차집합은 연산자 `-`를 사용합니다."
   ]
  },
  {
   "cell_type": "code",
   "execution_count": null,
   "metadata": {},
   "outputs": [],
   "source": [
    "# set_a와 set_b의 차집합을 구해봅시다.\n",
    "set_a - set_b"
   ]
  },
  {
   "cell_type": "markdown",
   "metadata": {},
   "source": [
    "* 합집합은 연산자 `|`를 사용합니다."
   ]
  },
  {
   "cell_type": "code",
   "execution_count": null,
   "metadata": {},
   "outputs": [],
   "source": [
    "# set_a와 set_b의 합집합을 구해봅시다.\n",
    "set_a | set_b"
   ]
  },
  {
   "cell_type": "markdown",
   "metadata": {},
   "source": [
    "* 교집합은 연산자 `&`을 사용합니다."
   ]
  },
  {
   "cell_type": "code",
   "execution_count": null,
   "metadata": {},
   "outputs": [],
   "source": [
    "# set_a와 set_b의 교집합을 구해봅시다.\n",
    "set_a & set_b"
   ]
  },
  {
   "cell_type": "code",
   "execution_count": null,
   "metadata": {},
   "outputs": [],
   "source": [
    "# set은 중복된 값이 있을 수 없습니다.\n",
    "{1, 1, 1, 2, 2, 2, 2, 2, 3, 3, 3, 4, 5}"
   ]
  },
  {
   "cell_type": "markdown",
   "metadata": {},
   "source": [
    "* `set`을 활용하면 `list`의 중복된 값을 손쉽게 제거할 수 있습니다.\n",
    "* 단, `set`으로 변환하는 순간 순서를 보장할 수 없습니다."
   ]
  },
  {
   "cell_type": "code",
   "execution_count": null,
   "metadata": {},
   "outputs": [],
   "source": [
    "# set으로 중복된 값을 제거해봅시다.\n",
    "# 정수 1, 2, 3, 1, 1, 2를 원소로 가지는 list를 만듭니다.\n",
    "# 생성한 list를 set으로 형 변환 합니다.\n",
    "# 결과를 출력 해봅시다.\n",
    "nums = [3, 1, 2, 2, 3, 1]\n",
    "\n",
    "s_nums = set(nums)\n",
    "print(s_nums)"
   ]
  },
  {
   "cell_type": "code",
   "execution_count": null,
   "metadata": {},
   "outputs": [],
   "source": [
    "# 다시 list로 바꿔서 확인해봅시다.\n",
    "list(s_nums)"
   ]
  },
  {
   "cell_type": "code",
   "execution_count": 53,
   "metadata": {},
   "outputs": [
    {
     "data": {
      "text/plain": [
       "{1, 2, 3, 4}"
      ]
     },
     "execution_count": 53,
     "metadata": {},
     "output_type": "execute_result"
    }
   ],
   "source": [
    "# mutable\n",
    "s = {1, 2, 3}\n",
    "s.add(4)\n",
    "s"
   ]
  },
  {
   "cell_type": "markdown",
   "metadata": {},
   "source": [
    "## `dictionary`\n",
    "\n",
    "`dictionary`는 `key`와 `value`가 쌍으로 이뤄져있습니다.\n",
    "\n",
    "\n",
    "<center><img src=\"https://user-images.githubusercontent.com/18046097/61180427-1405d880-a651-11e9-94e1-1cc5c2a2ff34.png\"></center> "
   ]
  },
  {
   "cell_type": "markdown",
   "metadata": {},
   "source": [
    "### 활용법\n",
    "\n",
    "```python\n",
    "{Key1:Value1, Key2:Value2, Key3:Value3, ...}\n",
    "```\n",
    "\n",
    "* `{}`를 통해 만들며, `dict()`로 만들 수 있습니다.\n",
    "* `key`는 **변경 불가능(immutable)한 데이터**만 가능합니다. (immutable : string, integer, float, boolean, tuple, range)\n",
    "* `value`는 `list`, `dictionary`를 포함한 모든 것이 가능합니다."
   ]
  },
  {
   "cell_type": "code",
   "execution_count": null,
   "metadata": {},
   "outputs": [],
   "source": [
    "# 비어있는 dictionary를 두가지 방법으로 만들어봅시다.\n",
    "# {}와 dict()로 만들 수 있습니다.\n",
    "# 두 변수의 타입을 출력해 봅시다.\n",
    "a = {}\n",
    "b = dict()\n",
    "\n",
    "a == b, type(a), type(b)"
   ]
  },
  {
   "cell_type": "code",
   "execution_count": null,
   "metadata": {},
   "outputs": [],
   "source": [
    "# dictionary에 중복된 key는 존재할 수가 없습니다.\n",
    "{'a': 1, 'a': 2}"
   ]
  },
  {
   "cell_type": "code",
   "execution_count": null,
   "metadata": {},
   "outputs": [],
   "source": [
    "# 지역번호가 담긴 전화번호부를 만들어봅시다.\n",
    "# 변수 phone_book에 key를 지역명, value를 지역번호로 가지는 원소를 작성합니다.\n",
    "# 예) 서울 - 02\n",
    "phone_book = {'서울': '02', '인천': '032', '광주': '062', '부산': '051'}"
   ]
  },
  {
   "cell_type": "code",
   "execution_count": null,
   "metadata": {},
   "outputs": [],
   "source": [
    "# 위에서 작성한 phone_book이 가지고 있는 key 목록을 확인 해 봅시다.\n",
    "# dictionary의 .keys() 메소드를 활용하여 key를 확인 해볼 수 있습니다.\n",
    "phone_book.keys()"
   ]
  },
  {
   "cell_type": "code",
   "execution_count": null,
   "metadata": {},
   "outputs": [],
   "source": [
    "# 위에서 작성한 phone_book이 가지고 있는 value 목록을 확인 해 봅시다.\n",
    "# 딕셔너리의 .values() 메소드를 활용하여 value를 확인 해볼 수 있습니다.\n",
    "phone_book.values()"
   ]
  },
  {
   "cell_type": "code",
   "execution_count": null,
   "metadata": {},
   "outputs": [],
   "source": [
    "# 위에서 작성한 phone_book이 가지고 있는 key와 value 목록을 확인 해 봅시다.\n",
    "# 딕셔너리의 .items() 메소드를 활용하여 key, value를 확인 해볼 수 있습니다.\n",
    "phone_book.items()\n"
   ]
  },
  {
   "cell_type": "code",
   "execution_count": 57,
   "metadata": {},
   "outputs": [
    {
     "name": "stdout",
     "output_type": "stream",
     "text": [
      "{'a': 100, 'b': 2, 'c': 3}\n"
     ]
    }
   ],
   "source": [
    "d = {'a': 1, 'b': 2}\n",
    "\n",
    "# dict의 존재하는 Key로 Value 조회\n",
    "d['a']\n",
    "# dict의 존재하지 않는 Key로 Value 조회\n",
    "#  d['c']  # KeyError => 키가 없다\n",
    "\n",
    "# dict 존재하는 Key => Value 변경\n",
    "d['a'] = 100\n",
    "# dict 존재하지 않는 Key => Key-Value 추가\n",
    "d['c'] = 3\n",
    "print(d)\n"
   ]
  },
  {
   "cell_type": "markdown",
   "metadata": {},
   "source": [
    "## 컨테이너형 형변환\n",
    "\n",
    "파이썬에서 컨테이너는 서로 변환할 수 있습니다.\n",
    "\n",
    "<img width=\"708\" alt=\"typecasting\" src=\"https://user-images.githubusercontent.com/18046097/61180466-a6a67780-a651-11e9-8c0a-adb9e1ee04de.png\">\n"
   ]
  },
  {
   "cell_type": "code",
   "execution_count": null,
   "metadata": {},
   "outputs": [],
   "source": [
    "# 하나의 결과를 확인 한 후, 주석 `#` 을 활용하여 이전의 코드를 비활성화 합니다.\n",
    "# 형변환 후의 결과를 확인 합니다.\n"
   ]
  },
  {
   "cell_type": "code",
   "execution_count": 13,
   "metadata": {},
   "outputs": [
    {
     "data": {
      "text/plain": [
       "{1, 2, 3, 4}"
      ]
     },
     "execution_count": 13,
     "metadata": {},
     "output_type": "execute_result"
    }
   ],
   "source": [
    "# list를 형변환 해봅시다.\n",
    "l = [1, 2, 3, 4]\n",
    "\n",
    "str(l)    # '[1, 2, 3, 4]'\n",
    "tuple(l)  # (1, 2, 3, 4)\n",
    "set(l)    # {1, 2, 3, 4}\n",
    "# range(l)  # x\n",
    "# dict(l)   # x"
   ]
  },
  {
   "cell_type": "code",
   "execution_count": 12,
   "metadata": {},
   "outputs": [
    {
     "data": {
      "text/plain": [
       "{1, 2, 3, 4}"
      ]
     },
     "execution_count": 12,
     "metadata": {},
     "output_type": "execute_result"
    }
   ],
   "source": [
    "# tuple을 형변환 해봅시다.\n",
    "t = (1, 2, 3, 4)\n",
    "\n",
    "str(t)  # '(1, 2, 3, 4)'\n",
    "list(t)  # [1, 2, 3, 4]\n",
    "set(t)   # {1, 2, 3, 4}\n",
    "# range(t)  # X\n",
    "# dict(t)   # X"
   ]
  },
  {
   "cell_type": "code",
   "execution_count": 19,
   "metadata": {},
   "outputs": [
    {
     "data": {
      "text/plain": [
       "(1, 2, 3, 4)"
      ]
     },
     "execution_count": 19,
     "metadata": {},
     "output_type": "execute_result"
    }
   ],
   "source": [
    "# range를 형변환 해봅시다.\n",
    "r = range(1, 5)\n",
    "\n",
    "str(r)  # 'range(1, 5)'\n",
    "list(r)  # [1, 2, 3, 4]\n",
    "tuple(r)  # (1, 2, 3, 4)\n",
    "# dict(r)  # X"
   ]
  },
  {
   "cell_type": "code",
   "execution_count": 25,
   "metadata": {},
   "outputs": [
    {
     "data": {
      "text/plain": [
       "(1, 2, 3, 4)"
      ]
     },
     "execution_count": 25,
     "metadata": {},
     "output_type": "execute_result"
    }
   ],
   "source": [
    "# set을 형변환 해봅시다.\n",
    "s = {1, 2, 3, 4}\n",
    "\n",
    "str(s)  # '{1, 2, 3, 4}'\n",
    "list(s)  # [1, 2, 3, 4]\n",
    "tuple(s)  # (1, 2, 3, 4)\n",
    "# range(s)  # X\n",
    "# dict(s)  # X"
   ]
  },
  {
   "cell_type": "code",
   "execution_count": 33,
   "metadata": {},
   "outputs": [
    {
     "data": {
      "text/plain": [
       "{'a', 'b'}"
      ]
     },
     "execution_count": 33,
     "metadata": {},
     "output_type": "execute_result"
    }
   ],
   "source": [
    "# dictionary를 형변환 해봅시다.\n",
    "d = {'a': 1, 'b': 2}\n",
    "\n",
    "str(d)  # \"{'a': 1, 'b': 2}\"\n",
    "list(d)  # ['a', 'b']\n",
    "tuple(d)  # ('a', 'b')\n",
    "set(d)  # {'a', 'b'}\n",
    "# range(d)  # X"
   ]
  },
  {
   "cell_type": "markdown",
   "metadata": {},
   "source": [
    "## 데이터의 분류\n",
    "> `mutable` vs. `immutable`\n",
    "\n",
    "데이터는 크게 변경 가능한 것(`mutable`)들과 변경 불가능한 것(`immutable`)으로 나뉘며, python은 각각을 다르게 다룹니다."
   ]
  },
  {
   "cell_type": "markdown",
   "metadata": {},
   "source": [
    "### 변경 불가능한(`immutable`) 데이터\n",
    "\n",
    "* 리터럴(literal)\n",
    "\n",
    "    - 숫자(Number)\n",
    "    - 글자(String)\n",
    "    - 참/거짓(Bool)\n",
    "\n",
    "* range()\n",
    "\n",
    "* tuple()\n",
    "\n",
    "* frozenset()\n"
   ]
  },
  {
   "cell_type": "code",
   "execution_count": null,
   "metadata": {},
   "outputs": [],
   "source": [
    "# immutable 데이터의 복사는 어떻게 이루어질까?"
   ]
  },
  {
   "cell_type": "code",
   "execution_count": null,
   "metadata": {},
   "outputs": [],
   "source": [
    "# 아래 코드 블럭을 실행하여 복사 과정을 확인해 봅시다."
   ]
  },
  {
   "cell_type": "code",
   "execution_count": 34,
   "metadata": {
    "ExecuteTime": {
     "end_time": "2021-01-15T08:49:45.487462Z",
     "start_time": "2021-01-15T08:49:45.472376Z"
    }
   },
   "outputs": [
    {
     "data": {
      "text/html": [
       "<iframe width=\"800\" height=\"500\" frameborder=\"0\" src=\"http://pythontutor.com/iframe-embed.html#code=a%20%3D%2020%0Ab%20%3D%20a%0Ab%20%3D%2010%0A%0Aprint%28a%29%0Aprint%28b%29&codeDivHeight=400&codeDivWidth=350&cumulative=false&curInstr=0&heapPrimitives=nevernest&origin=opt-frontend.js&py=3&rawInputLstJSON=%5B%5D&textReferences=false\"> </iframe>\n"
      ],
      "text/plain": [
       "<IPython.core.display.HTML object>"
      ]
     },
     "metadata": {},
     "output_type": "display_data"
    }
   ],
   "source": [
    "%%html\n",
    "<iframe width=\"800\" height=\"500\" frameborder=\"0\" src=\"http://pythontutor.com/iframe-embed.html#code=a%20%3D%2020%0Ab%20%3D%20a%0Ab%20%3D%2010%0A%0Aprint%28a%29%0Aprint%28b%29&codeDivHeight=400&codeDivWidth=350&cumulative=false&curInstr=0&heapPrimitives=nevernest&origin=opt-frontend.js&py=3&rawInputLstJSON=%5B%5D&textReferences=false\"> </iframe>"
   ]
  },
  {
   "cell_type": "markdown",
   "metadata": {},
   "source": [
    "### 변경 가능한(`mutable`) 데이터\n",
    "\n",
    "- `list`\n",
    "- `dict`\n",
    "- `set`\n"
   ]
  },
  {
   "cell_type": "code",
   "execution_count": null,
   "metadata": {},
   "outputs": [],
   "source": [
    "# mutable 데이터의 복사는 어떻게 이루어질까?"
   ]
  },
  {
   "cell_type": "code",
   "execution_count": 38,
   "metadata": {},
   "outputs": [
    {
     "data": {
      "text/plain": [
       "[1, 20, 3]"
      ]
     },
     "execution_count": 38,
     "metadata": {},
     "output_type": "execute_result"
    }
   ],
   "source": [
    "# 아래 코드 블럭을 실행하여 복사 과정을 확인해 봅시다."
   ]
  },
  {
   "cell_type": "code",
   "execution_count": 35,
   "metadata": {
    "ExecuteTime": {
     "end_time": "2021-01-15T08:49:47.034312Z",
     "start_time": "2021-01-15T08:49:47.024303Z"
    }
   },
   "outputs": [
    {
     "data": {
      "text/html": [
       "<iframe width=\"800\" height=\"500\" frameborder=\"0\" src=\"http://pythontutor.com/iframe-embed.html#code=num1%20%3D%20%5B1,%202,%203,%204%5D%0Anum2%20%3D%20num1%0Anum2%5B0%5D%20%3D%20100%0A%0Aprint%28num1%29%0Aprint%28num2%29&codeDivHeight=400&codeDivWidth=350&cumulative=false&curInstr=0&heapPrimitives=nevernest&origin=opt-frontend.js&py=3&rawInputLstJSON=%5B%5D&textReferences=false\"> </iframe>\n"
      ],
      "text/plain": [
       "<IPython.core.display.HTML object>"
      ]
     },
     "metadata": {},
     "output_type": "display_data"
    }
   ],
   "source": [
    "%%html\n",
    "<iframe width=\"800\" height=\"500\" frameborder=\"0\" src=\"http://pythontutor.com/iframe-embed.html#code=num1%20%3D%20%5B1,%202,%203,%204%5D%0Anum2%20%3D%20num1%0Anum2%5B0%5D%20%3D%20100%0A%0Aprint%28num1%29%0Aprint%28num2%29&codeDivHeight=400&codeDivWidth=350&cumulative=false&curInstr=0&heapPrimitives=nevernest&origin=opt-frontend.js&py=3&rawInputLstJSON=%5B%5D&textReferences=false\"> </iframe>"
   ]
  },
  {
   "cell_type": "markdown",
   "metadata": {},
   "source": [
    "# 정리\n",
    "## 컨테이너(Container)\n",
    "<center><img src=\"https://user-images.githubusercontent.com/18046097/61180439-44e60d80-a651-11e9-9adc-e60fa57c2165.png\", alt=\"container\"/></center>"
   ]
  },
  {
   "cell_type": "code",
   "execution_count": 61,
   "metadata": {},
   "outputs": [
    {
     "data": {
      "text/plain": [
       "int"
      ]
     },
     "execution_count": 61,
     "metadata": {},
     "output_type": "execute_result"
    }
   ],
   "source": [
    "type(1)"
   ]
  },
  {
   "cell_type": "code",
   "execution_count": 69,
   "metadata": {},
   "outputs": [
    {
     "data": {
      "text/plain": [
       "[1, 2, 3, 4, 5, 6, 7, 8, 9, 10]"
      ]
     },
     "execution_count": 69,
     "metadata": {},
     "output_type": "execute_result"
    }
   ],
   "source": [
    "n = 1\n",
    "l = []\n",
    "while n < 11:\n",
    "    l.append(n)\n",
    "    n += 1\n",
    "\n",
    "l"
   ]
  },
  {
   "cell_type": "code",
   "execution_count": 76,
   "metadata": {},
   "outputs": [
    {
     "name": "stdout",
     "output_type": "stream",
     "text": [
      "(1, 2)\n",
      "1 2\n"
     ]
    }
   ],
   "source": [
    "x = 1, 2\n",
    "print(x)\n",
    "a, b= 1, 2\n",
    "print(a, b)\n"
   ]
  },
  {
   "cell_type": "code",
   "execution_count": 80,
   "metadata": {},
   "outputs": [
    {
     "data": {
      "text/plain": [
       "[5, 7, 9]"
      ]
     },
     "execution_count": 80,
     "metadata": {},
     "output_type": "execute_result"
    }
   ],
   "source": [
    "a = [1, 2, 3]\n",
    "b = [4, 5, 6]\n",
    "\n",
    "list(map(sum, zip(a, b)))"
   ]
  },
  {
   "cell_type": "code",
   "execution_count": 81,
   "metadata": {},
   "outputs": [
    {
     "data": {
      "text/plain": [
       "[5, 7, 9]"
      ]
     },
     "execution_count": 81,
     "metadata": {},
     "output_type": "execute_result"
    }
   ],
   "source": [
    "c = []\n",
    "for idx in range(3):\n",
    "    num = a[idx] + b[idx]\n",
    "    c.append(num)\n",
    "c"
   ]
  }
 ],
 "metadata": {
  "kernelspec": {
   "display_name": "Python 3 (ipykernel)",
   "language": "python",
   "name": "python3"
  },
  "language_info": {
   "codemirror_mode": {
    "name": "ipython",
    "version": 3
   },
   "file_extension": ".py",
   "mimetype": "text/x-python",
   "name": "python",
   "nbconvert_exporter": "python",
   "pygments_lexer": "ipython3",
   "version": "3.11.6"
  },
  "toc": {
   "base_numbering": 1,
   "nav_menu": {},
   "number_sections": true,
   "sideBar": true,
   "skip_h1_title": false,
   "title_cell": "Table of Contents",
   "title_sidebar": "컨테이너(Container)",
   "toc_cell": false,
   "toc_position": {},
   "toc_section_display": true,
   "toc_window_display": false
  }
 },
 "nbformat": 4,
 "nbformat_minor": 4
}
