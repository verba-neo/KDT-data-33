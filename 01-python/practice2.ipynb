{
 "cells": [
  {
   "cell_type": "markdown",
   "metadata": {},
   "source": [
    "## 모음 제거하기\n",
    "\n",
    "> 다음 문장의 모음을 제거한 새로운 문자열을 출력하세요.\n",
    "\n",
    "---\n",
    "\n",
    "\n",
    "**[입력 예시]**\n",
    "\n",
    "`'Life is too short, you need python'`\n",
    "\n",
    "**[출력 예시]**\n",
    "\n",
    "`Lf s t shrt, y nd pythn`"
   ]
  },
  {
   "cell_type": "code",
   "execution_count": 10,
   "metadata": {},
   "outputs": [],
   "source": [
    "my_str = 'Life is too short, you need python'\n",
    "\n",
    "# 아래에 코드를 작성하세요."
   ]
  },
  {
   "cell_type": "code",
   "execution_count": 12,
   "metadata": {},
   "outputs": [
    {
     "name": "stdout",
     "output_type": "stream",
     "text": [
      "Lf s t shrt, y nd pythn\n"
     ]
    }
   ],
   "source": [
    "new_str = ''\n",
    "\n",
    "for char in my_str:\n",
    "    if char not in 'aeiou':\n",
    "        new_str += char\n",
    "\n",
    "print(new_str)"
   ]
  },
  {
   "cell_type": "markdown",
   "metadata": {},
   "source": [
    "## 과일 개수 골라내기\n",
    "\n",
    "> 내 장바구니에 과일이 몇 개인지, 과일이 아닌 것은 몇개인지 출력하세요.\n",
    ">\n",
    "> 장바구니에 담긴 과일과, 과일 판별 리스트는 다음과 같습니다.\n",
    "> ```python\n",
    "> basket_items = {'apples': 4, 'oranges': 19, 'kites': 3, 'sandwiches': 8}\n",
    "> fruits = ['apples', 'oranges', 'pears', 'peaches', 'grapes', 'bananas']\n",
    "> ```\n",
    "\n",
    "---\n",
    "\n",
    "**[출력 예시]**\n",
    "\n",
    "과일은 23개이고, 11개는 과일이 아닙니다."
   ]
  },
  {
   "cell_type": "code",
   "execution_count": 13,
   "metadata": {},
   "outputs": [],
   "source": [
    "basket_items = {'apples': 4, 'oranges': 19, 'kites': 3, 'sandwiches': 8}\n",
    "fruits = ['apples', 'oranges', 'pears', 'peaches', 'grapes', 'bananas']\n",
    "\n",
    "# 아래에 코드를 작성하세요."
   ]
  },
  {
   "cell_type": "code",
   "execution_count": 15,
   "metadata": {},
   "outputs": [
    {
     "name": "stdout",
     "output_type": "stream",
     "text": [
      "23 11\n"
     ]
    }
   ],
   "source": [
    "# dict 순회 => key\n",
    "fruit_cnt = non_fruit_cnt = 0\n",
    "\n",
    "for key in basket_items:\n",
    "    if key in fruits:\n",
    "        fruit_cnt += basket_items[key]\n",
    "    else:\n",
    "        non_fruit_cnt += basket_items[key]\n",
    "\n",
    "print(fruit_cnt, non_fruit_cnt)\n",
    "        "
   ]
  },
  {
   "cell_type": "code",
   "execution_count": 16,
   "metadata": {},
   "outputs": [
    {
     "name": "stdout",
     "output_type": "stream",
     "text": [
      "23 11\n"
     ]
    }
   ],
   "source": [
    "# dict.items() 순회 => key-value\n",
    "\n",
    "fruit_cnt = non_fruit_cnt = 0\n",
    "\n",
    "for key, value in basket_items.items():\n",
    "    if key in fruits:\n",
    "        fruit_cnt += value\n",
    "    else:\n",
    "        non_fruit_cnt += value\n",
    "\n",
    "print(fruit_cnt, non_fruit_cnt)"
   ]
  },
  {
   "cell_type": "markdown",
   "metadata": {},
   "source": [
    "## 영어 이름 출력하기 \n",
    "\n",
    "> 영어 이름은 가운데 이름을 가지고 있는 경우가 있습니다.\n",
    ">\n",
    "> 가운데 이름은 대문자로 축약해서 나타내는 코드를 작성하세요.\n",
    "\n",
    "---\n",
    "**[입력 예시]**\n",
    "\n",
    "Alice Betty Catherine Davis\n",
    "\n",
    "**[출력 예시]**\n",
    "\n",
    "Alice B. C. Davis"
   ]
  },
  {
   "cell_type": "code",
   "execution_count": 31,
   "metadata": {},
   "outputs": [
    {
     "name": "stdout",
     "output_type": "stream",
     "text": [
      "['Alice', 'Betty', 'Catherine', 'Davis', 'Echo']\n"
     ]
    }
   ],
   "source": [
    "name = 'Alice Betty Catherine Davis Echo'\n",
    "names = name.split()\n",
    "print(names)  # names 가 어떻게 바뀌었는지 확인!"
   ]
  },
  {
   "cell_type": "code",
   "execution_count": 32,
   "metadata": {},
   "outputs": [
    {
     "name": "stdout",
     "output_type": "stream",
     "text": [
      "Alice B. C. D. Echo \n"
     ]
    }
   ],
   "source": [
    "# 아래에 코드를 작성하세요.\n",
    "new_name = ''\n",
    "\n",
    "for idx, name in enumerate(names):\n",
    "    # 첫 요소 / 마지막 요소\n",
    "    if idx == 0:\n",
    "        new_name += name + ' '\n",
    "    elif idx == len(names) - 1:\n",
    "        new_name += name\n",
    "    # 그 외 중간\n",
    "    else:\n",
    "        new_name += name[0] + '. '\n",
    "\n",
    "print(new_name)"
   ]
  },
  {
   "cell_type": "code",
   "execution_count": 33,
   "metadata": {},
   "outputs": [
    {
     "name": "stdout",
     "output_type": "stream",
     "text": [
      "Alice B. C. D. Echo ['Alice', 'Betty', 'Catherine', 'Davis', 'Echo']\n"
     ]
    }
   ],
   "source": [
    "new_name = ''\n",
    "new_name += names[0] + ' '\n",
    "\n",
    "for name in names[1:-1]:\n",
    "    new_name += name[0] + '. '\n",
    "\n",
    "new_name += names[-1]\n",
    "\n",
    "print(new_name, names)\n"
   ]
  },
  {
   "cell_type": "code",
   "execution_count": 38,
   "metadata": {},
   "outputs": [
    {
     "name": "stdout",
     "output_type": "stream",
     "text": [
      "Alice B. C. D. Echo\n"
     ]
    }
   ],
   "source": [
    "name = 'Alice Betty Catherine Davis Echo'\n",
    "names = name.split()\n",
    "\n",
    "for idx, name in enumerate(names):\n",
    "    # 처음 / 마지막이 아니라면\n",
    "    if idx != 0 and idx != len(names) -1:\n",
    "        names[idx] = name[0] + '.'\n",
    "\n",
    "print(' '.join(names))\n",
    "        "
   ]
  },
  {
   "cell_type": "code",
   "execution_count": null,
   "metadata": {},
   "outputs": [],
   "source": []
  }
 ],
 "metadata": {
  "kernelspec": {
   "display_name": "Python 3 (ipykernel)",
   "language": "python",
   "name": "python3"
  },
  "language_info": {
   "codemirror_mode": {
    "name": "ipython",
    "version": 3
   },
   "file_extension": ".py",
   "mimetype": "text/x-python",
   "name": "python",
   "nbconvert_exporter": "python",
   "pygments_lexer": "ipython3",
   "version": "3.11.6"
  },
  "toc": {
   "base_numbering": 1,
   "nav_menu": {},
   "number_sections": true,
   "sideBar": true,
   "skip_h1_title": false,
   "title_cell": "Table of Contents",
   "title_sidebar": "Contents",
   "toc_cell": false,
   "toc_position": {},
   "toc_section_display": true,
   "toc_window_display": false
  }
 },
 "nbformat": 4,
 "nbformat_minor": 4
}
